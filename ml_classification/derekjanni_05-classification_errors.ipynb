{
 "cells": [
  {
   "cell_type": "code",
   "execution_count": 220,
   "metadata": {
    "collapsed": false
   },
   "outputs": [],
   "source": [
    "# sklearn models\n",
    "from sklearn.neighbors import KNeighborsClassifier\n",
    "from sklearn.naive_bayes import GaussianNB\n",
    "from sklearn.svm import SVC\n",
    "from sklearn.tree import DecisionTreeClassifier\n",
    "from sklearn.ensemble import RandomForestClassifier\n",
    "from sklearn import linear_model\n",
    "\n",
    "#sklearn metrics\n",
    "from sklearn.metrics import accuracy_score\n",
    "from sklearn.metrics import precision_score\n",
    "from sklearn.metrics import recall_score\n",
    "from sklearn.metrics import f1_score\n",
    "from sklearn.metrics import roc_curve \n",
    "from sklearn.metrics import auc\n",
    "from sklearn.metrics import classification_report\n",
    "from sklearn.learning_curve import learning_curve\n",
    "from sklearn.cross_validation import cross_val_score\n",
    "from sklearn.cross_validation import train_test_split\n",
    "\n",
    "#graphs\n",
    "import matplotlib.pyplot as plt\n",
    "import seaborn as sns\n",
    "\n",
    "#basics\n",
    "import pandas as pd\n",
    "import numpy as np\n",
    "from pprint import pprint"
   ]
  },
  {
   "cell_type": "markdown",
   "metadata": {},
   "source": [
    "#Challenge 1\n",
    "\n",
    "For the house representatives data set, calculate the accuracy, precision, recall and f1 scores of each classifier you built (on the test set)."
   ]
  },
  {
   "cell_type": "markdown",
   "metadata": {},
   "source": [
    "To save myself some pain, I'm just going to put all of my models in an array so I can iterate through them and generate the scores I want:"
   ]
  },
  {
   "cell_type": "code",
   "execution_count": 172,
   "metadata": {
    "collapsed": true
   },
   "outputs": [],
   "source": [
    "models = {'K-Nearest Neighbors': KNeighborsClassifier(n_neighbors=5), \n",
    "          'Logistic Regression': linear_model.LogisticRegression(), \n",
    "          'Gaussian Naive Bayes': GaussianNB(),\n",
    "          'Support Vector Classifier': SVC(probability=True),\n",
    "          'Decision Tree Classifier': DecisionTreeClassifier(),\n",
    "          'Random Forest Classifier': RandomForestClassifier()}"
   ]
  },
  {
   "cell_type": "code",
   "execution_count": 173,
   "metadata": {
    "collapsed": false
   },
   "outputs": [],
   "source": [
    "headers = [\n",
    "    'class'\n",
    "    ,'handicapped-infants'\n",
    "    ,'water-project-cost-sharing'\n",
    "    ,'adoption-of-the-budget-resolution'\n",
    "    ,'physician-fee-freeze'\n",
    "    ,'el-salvador-aid'\n",
    "    ,'religious-groups-in-schools'\n",
    "    ,'anti-satellite-test-ban'\n",
    "    ,'aid-to-nicaraguan-contras'\n",
    "    ,'mx-missile'\n",
    "    ,'immigration'\n",
    "    ,'synfuels-corporation-cutback'\n",
    "    ,'education-spending'\n",
    "    ,'superfund-right-to-sue'\n",
    "    ,'crime'\n",
    "    ,'duty-free-exports'\n",
    "    ,'export-administration-act-south-africa'\n",
    "]\n",
    "\n",
    "url = \"https://archive.ics.uci.edu/ml/machine-learning-databases/voting-records/house-votes-84.data\"\n",
    "df = pd.read_csv(url, header=None, names=headers)\n",
    "\n",
    "# replace nulls with mean\n",
    "df = df.replace(['y', 'n', '?'], [1, 0, np.NaN])\n",
    "df = df.replace(['democrat', 'republican'], [1, 0])\n",
    "df = df.fillna(df.mean())"
   ]
  },
  {
   "cell_type": "code",
   "execution_count": 174,
   "metadata": {
    "collapsed": false
   },
   "outputs": [],
   "source": [
    "# test-train split\n",
    "train, test = train_test_split(df, test_size=0.33, random_state=42)\n",
    "X_train, X_test = train.drop(['class'], axis=1), test.drop(['class'], axis=1)\n",
    "Y_train, Y_test = train['class'], test['class']"
   ]
  },
  {
   "cell_type": "markdown",
   "metadata": {},
   "source": [
    "To make life a little bit easier, I'm just going to use `X_train`, `Y_train` and the test data so i don't have to pass this data around to functions. In the code below, if you see these labels floating around, refer to the above to see what they represent (recall that we're regressing \"class\" to a representatives voting history).\n",
    "\n",
    "Now, to calcualte the scores for each:\n",
    "\n"
   ]
  },
  {
   "cell_type": "code",
   "execution_count": 175,
   "metadata": {
    "collapsed": false
   },
   "outputs": [
    {
     "name": "stdout",
     "output_type": "stream",
     "text": [
      "Decision Tree Classifier\n",
      "'Recall Score': 0.979, 'Precision Score': 0.969, 'F1 Score': 0.974, 'Accuracy Score': 0.965\n",
      "Support Vector Classifier\n",
      "'Recall Score': 0.969, 'Precision Score': 0.979, 'F1 Score': 0.974, 'Accuracy Score': 0.965\n",
      "Gaussian Naive Bayes\n",
      "'Recall Score': 0.969, 'Precision Score': 0.931, 'F1 Score': 0.949, 'Accuracy Score': 0.931\n",
      "K-Nearest Neighbors\n",
      "'Recall Score': 0.959, 'Precision Score': 0.969, 'F1 Score': 0.964, 'Accuracy Score': 0.951\n",
      "Logistic Regression\n",
      "'Recall Score': 0.979, 'Precision Score': 0.979, 'F1 Score': 0.979, 'Accuracy Score': 0.972\n",
      "Random Forest Classifier\n",
      "'Recall Score': 0.979, 'Precision Score': 0.95, 'F1 Score': 0.964, 'Accuracy Score': 0.951\n"
     ]
    }
   ],
   "source": [
    "def get_scores(model):\n",
    "    model.fit(X_train, Y_train)\n",
    "    Y_pred = model.predict(X_test)\n",
    "    return (\n",
    "    {'Accuracy Score': round(accuracy_score(Y_test, Y_pred), 3),\n",
    "     'F1 Score': round(f1_score(Y_test, Y_pred, average='binary'), 3),\n",
    "     'Precision Score': round(precision_score(Y_test, Y_pred, average='binary'), 3), \n",
    "     'Recall Score': round(recall_score(Y_test, Y_pred, average='binary'), 3),\n",
    "    })\n",
    "\n",
    "for i in models:\n",
    "    print(i + '\\n' +  str(get_scores(models[i])).strip('{}'))\n",
    "    \n",
    "    "
   ]
  },
  {
   "cell_type": "markdown",
   "metadata": {},
   "source": [
    "#Challenge 2\n",
    "\n",
    "For each, draw the ROC curve and calculate the AUC. "
   ]
  },
  {
   "cell_type": "code",
   "execution_count": 183,
   "metadata": {
    "collapsed": false
   },
   "outputs": [
    {
     "name": "stdout",
     "output_type": "stream",
     "text": [
      "Decision Tree Classifier\n",
      "Support Vector Classifier\n",
      "Gaussian Naive Bayes\n",
      "K-Nearest Neighbors\n",
      "Logistic Regression\n",
      "Random Forest Classifier\n"
     ]
    },
    {
     "data": {
      "image/png": "[encoded data removed]",
      "text/plain": [
       "<matplotlib.figure.Figure at 0x10e52c4d0>"
      ]
     },
     "metadata": {},
     "output_type": "display_data"
    }
   ],
   "source": [
    "%matplotlib inline\n",
    "def get_ROC(model):\n",
    "    model.fit(X_train, Y_train)\n",
    "    probs = model.fit(X_train, Y_train).predict_proba(X_test)\n",
    "    fpr, tpr, thresh = roc_curve(Y_test, probs[:,1])\n",
    "    return (fpr, tpr)\n",
    "\n",
    "def plot_ROC(name, fpr, tpr):\n",
    "    plt.xlim([0.0, 1.0])\n",
    "    plt.ylim([0.0, 1.05])\n",
    "    plt.xlabel('False Positive Rate')\n",
    "    plt.ylabel('True Positive Rate')\n",
    "    plt.title('Receiver Operating Characteristic for Various Classifiers')\n",
    "    plt.legend(loc=\"lower right\")\n",
    "    plt.plot(tpr, fpr, label=name)\n",
    "\n",
    "plt.figure(figsize=(5,5))\n",
    "for i in models:\n",
    "    print i\n",
    "    plot_ROC(i, get_ROC(models[i])[1], get_ROC(models[i])[0])\n",
    "    "
   ]
  },
  {
   "cell_type": "code",
   "execution_count": 199,
   "metadata": {
    "collapsed": false
   },
   "outputs": [
    {
     "name": "stdout",
     "output_type": "stream",
     "text": [
      "Decision Tree Classifier: 0.481981981982\n",
      "Support Vector Classifier: 0.386636636637\n",
      "Gaussian Naive Bayes: 0.380880880881\n",
      "K-Nearest Neighbors: 0.353353353353\n",
      "Logistic Regression: 0.378878878879\n",
      "Random Forest Classifier: 0.331581581582\n"
     ]
    }
   ],
   "source": [
    "def get_AUC(model):\n",
    "    model.fit(X_train, Y_train)\n",
    "    Y_pred = model.predict(X_test)\n",
    "    probs = model.fit(X_train, Y_train).predict_proba(X_test)\n",
    "    fpr, tpr, thresh = roc_curve(Y_test, probs[:,1])\n",
    "    return auc(tpr, fpr) \n",
    "\n",
    "for i in models:\n",
    "    print(i + ': ' +  str(get_AUC(models[i])).strip('{}'))"
   ]
  },
  {
   "cell_type": "markdown",
   "metadata": {},
   "source": [
    "#Challenge 3\n",
    "\n",
    "Calculate the same metrics you did in challenge 1, but this time in a cross validation scheme with the cross_val_score function (like in Challenge 9).\n",
    "\n",
    " "
   ]
  },
  {
   "cell_type": "code",
   "execution_count": 184,
   "metadata": {
    "collapsed": false
   },
   "outputs": [
    {
     "name": "stdout",
     "output_type": "stream",
     "text": [
      "Decision Tree Classifier\n",
      "'Recall Score': 0.924, 'Precision Score': 0.914, 'F1 Score': 0.911, 'Accuracy Score': 0.918\n",
      "Support Vector Classifier\n",
      "'Recall Score': 0.947, 'Precision Score': 0.952, 'F1 Score': 0.952, 'Accuracy Score': 0.952\n",
      "Gaussian Naive Bayes\n",
      "'Recall Score': 0.935, 'Precision Score': 0.928, 'F1 Score': 0.928, 'Accuracy Score': 0.928\n",
      "K-Nearest Neighbors\n",
      "'Recall Score': 0.9, 'Precision Score': 0.931, 'F1 Score': 0.932, 'Accuracy Score': 0.931\n",
      "Logistic Regression\n",
      "'Recall Score': 0.959, 'Precision Score': 0.959, 'F1 Score': 0.959, 'Accuracy Score': 0.959\n",
      "Random Forest Classifier\n",
      "'Recall Score': 0.935, 'Precision Score': 0.952, 'F1 Score': 0.945, 'Accuracy Score': 0.935\n"
     ]
    }
   ],
   "source": [
    "def get_scores_cv(model):\n",
    "    model.fit(X_train, Y_train)    \n",
    "    return (\n",
    "    {'Accuracy Score': round(cross_val_score(model, X_train, Y_train, cv=5, scoring='accuracy').mean(), 3),\n",
    "     'F1 Score': round(cross_val_score(model, X_train, Y_train, cv=5, scoring='f1_weighted').mean(), 3),\n",
    "     'Precision Score': round(cross_val_score(model, X_train, Y_train, cv=5).mean(), 3), \n",
    "     'Recall Score': round(cross_val_score(model, X_train, Y_train, cv=5, scoring='recall').mean(), 3)\n",
    "    })\n",
    "\n",
    "for i in models:\n",
    "    print i + '\\n' + str(get_scores_cv(models[i])).strip('{}')\n"
   ]
  },
  {
   "cell_type": "markdown",
   "metadata": {},
   "source": [
    "#Challenge 4\n",
    "\n",
    "For your movie classifiers, calculate the precision and recall for each class.\n",
    "\n",
    " "
   ]
  },
  {
   "cell_type": "code",
   "execution_count": 223,
   "metadata": {
    "collapsed": true
   },
   "outputs": [],
   "source": [
    "# import, praise my ingenuity\n",
    "df = pd.read_csv(\"~/ds4/challenges/02-pandas/2013_movies.csv\")\n",
    "\n",
    "# train/test split\n",
    "train, test = train_test_split(df, test_size=0.33, random_state=42)\n",
    "X_train, X_test = train['Runtime'], test['Runtime']\n",
    "Y_train, Y_test = train['Rating'], test['Rating']\n",
    "\n",
    "# adapt inputs so it works\n",
    "X_train = [[i] for i in X_train]\n",
    "X_test = [[i] for i in X_test]\n",
    "\n",
    "# declare models for explicit-ness\n",
    "models = {'K-Nearest Neighbors': KNeighborsClassifier(n_neighbors=5), \n",
    "          'Logistic Regression': linear_model.LogisticRegression(), \n",
    "          'Gaussian Naive Bayes': GaussianNB(),\n",
    "          'Support Vector Classifier': SVC(probability=True),\n",
    "          'Decision Tree Classifier': DecisionTreeClassifier(),\n",
    "          'Random Forest Classifier': RandomForestClassifier()}"
   ]
  },
  {
   "cell_type": "code",
   "execution_count": 224,
   "metadata": {
    "collapsed": false
   },
   "outputs": [
    {
     "name": "stdout",
     "output_type": "stream",
     "text": [
      "Decision Tree Classifier:\n",
      "             precision    recall  f1-score   support\n",
      "\n",
      "         PG       0.00      0.00      0.00         2\n",
      "      PG-13       0.57      0.35      0.43        23\n",
      "          R       0.23      0.38      0.29         8\n",
      "\n",
      "avg / total       0.45      0.33      0.37        33\n",
      "\n",
      "Support Vector Classifier:\n",
      "             precision    recall  f1-score   support\n",
      "\n",
      "         PG       0.00      0.00      0.00         2\n",
      "      PG-13       0.69      0.48      0.56        23\n",
      "          R       0.27      0.50      0.35         8\n",
      "\n",
      "avg / total       0.54      0.45      0.48        33\n",
      "\n",
      "Gaussian Naive Bayes:\n",
      "             precision    recall  f1-score   support\n",
      "\n",
      "         PG       0.25      0.50      0.33         2\n",
      "      PG-13       0.72      0.57      0.63        23\n",
      "          R       0.27      0.38      0.32         8\n",
      "\n",
      "avg / total       0.58      0.52      0.54        33\n",
      "\n",
      "K-Nearest Neighbors:\n",
      "             precision    recall  f1-score   support\n",
      "\n",
      "         PG       0.00      0.00      0.00         2\n",
      "      PG-13       0.60      0.39      0.47        23\n",
      "          R       0.23      0.38      0.29         8\n",
      "\n",
      "avg / total       0.47      0.36      0.40        33\n",
      "\n",
      "Logistic Regression:\n",
      "             precision    recall  f1-score   support\n",
      "\n",
      "         PG       0.00      0.00      0.00         2\n",
      "      PG-13       0.00      0.00      0.00        23\n",
      "          R       0.24      1.00      0.39         8\n",
      "\n",
      "avg / total       0.06      0.24      0.09        33\n",
      "\n",
      "Random Forest Classifier:\n",
      "             precision    recall  f1-score   support\n",
      "\n",
      "         PG       0.00      0.00      0.00         2\n",
      "      PG-13       0.62      0.43      0.51        23\n",
      "          R       0.21      0.38      0.27         8\n",
      "\n",
      "avg / total       0.49      0.39      0.42        33\n",
      "\n"
     ]
    }
   ],
   "source": [
    "def precision_recall_by_class(model):\n",
    "    model.fit(X_train, Y_train)\n",
    "    Y_pred = model.predict(X_test)\n",
    "    return classification_report(Y_test, model.predict(X_test))\n",
    "\n",
    "for i in models:\n",
    "    print i + ':\\n' + str(precision_recall_by_class(models[i]))"
   ]
  },
  {
   "cell_type": "markdown",
   "metadata": {},
   "source": [
    "#Challenge 5\n",
    "\n",
    "Draw the ROC curve (and calculate AUC) for the logistic regression classifier from challenge 12."
   ]
  },
  {
   "cell_type": "code",
   "execution_count": 225,
   "metadata": {
    "collapsed": false
   },
   "outputs": [],
   "source": [
    "headers =[\n",
    "    'Age',\n",
    "    'YearOP',\n",
    "    'Nodes',\n",
    "    'Survived'\n",
    "    ]\n",
    "url =\"https://archive.ics.uci.edu/ml/machine-learning-databases/haberman/haberman.data\"\n",
    "df = pd.read_csv(url, header=None, names=headers)\n",
    "df['Survived'] = df['Survived'].replace([1, 2], [1, 0])\n",
    "\n"
   ]
  },
  {
   "cell_type": "code",
   "execution_count": 227,
   "metadata": {
    "collapsed": false
   },
   "outputs": [
    {
     "name": "stdout",
     "output_type": "stream",
     "text": [
      "Logistic Regression: 0.428099173554\n",
      "Such bad.\n"
     ]
    },
    {
     "data": {
      "image/png": "[encoded data removed]",
      "text/plain": [
       "<matplotlib.figure.Figure at 0x10feb89d0>"
      ]
     },
     "metadata": {},
     "output_type": "display_data"
    }
   ],
   "source": [
    "train, test = train_test_split(df, test_size=0.25, random_state=42)\n",
    "X_train, X_test = train.drop('Survived', axis=1), test.drop('Survived', axis=1)\n",
    "Y_train, Y_test = train['Survived'], test['Survived']\n",
    "\n",
    "logit = linear_model.LogisticRegression()\n",
    "logit.fit(X_train, Y_train)\n",
    "plot_ROC('Logistic Regression', get_ROC(models['Logistic Regression'])[1], get_ROC(models['Logistic Regression'])[0])\n",
    "print('Logistic Regression: ' +  str(get_AUC(linear_model.LogisticRegression())).strip('{}'))\n",
    "print('Such bad.')"
   ]
  },
  {
   "cell_type": "code",
   "execution_count": null,
   "metadata": {
    "collapsed": true
   },
   "outputs": [],
   "source": []
  }
 ],
 "metadata": {
  "kernelspec": {
   "display_name": "Python 2",
   "language": "python",
   "name": "python2"
  },
  "language_info": {
   "codemirror_mode": {
    "name": "ipython",
    "version": 2
   },
   "file_extension": ".py",
   "mimetype": "text/x-python",
   "name": "python",
   "nbconvert_exporter": "python",
   "pygments_lexer": "ipython2",
   "version": "2.7.10"
  }
 },
 "nbformat": 4,
 "nbformat_minor": 0
}
