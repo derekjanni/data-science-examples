{
 "cells": [
  {
   "cell_type": "markdown",
   "metadata": {},
   "source": [
    "# NLP / Clustering Challenges\n"
   ]
  },
  {
   "cell_type": "code",
   "execution_count": 20,
   "metadata": {
    "collapsed": false
   },
   "outputs": [],
   "source": [
    "from pymongo import MongoClient\n",
    "from nltk import word_tokenize\n",
    "from nltk.corpus import stopwords\n",
    "from nltk.corpus import wordnet\n",
    "from nltk.corpus import words\n",
    "from bson.son import SON\n",
    "from bson.code import Code\n",
    "import numpy as np\n",
    "from sklearn.feature_extraction.text import TfidfVectorizer\n",
    "from sklearn.feature_extraction.text import CountVectorizer\n",
    "from sklearn.cluster import KMeans, MeanShift"
   ]
  },
  {
   "cell_type": "markdown",
   "metadata": {},
   "source": [
    "##### Challenge 1\n",
    "\n",
    "Cluster sentences with K-means. If you have your own Fletcher text data, get sentences out and cluster them. If not, cluster the tweets you gathered during the last challenge set. For each cluster, print out the sentences, try to see how close the sentences are. Try different K values and try to find a K value that makes the most sense (the sentences look like they do form a meaningful cluster).\n",
    "\n",
    "How do you deal with retweets (if you're clustering tweets)?\n"
   ]
  },
  {
   "cell_type": "code",
   "execution_count": 3,
   "metadata": {
    "collapsed": false
   },
   "outputs": [
    {
     "data": {
      "text/plain": [
       "4996"
      ]
     },
     "execution_count": 3,
     "metadata": {},
     "output_type": "execute_result"
    }
   ],
   "source": [
    "# mongo checkup\n",
    "client = MongoClient('mongodb://52.10.8.92:27017/')\n",
    "news = client.guardian_data.news_articles\n",
    "news.count()"
   ]
  },
  {
   "cell_type": "code",
   "execution_count": 66,
   "metadata": {
    "collapsed": false
   },
   "outputs": [
    {
     "name": "stdout",
     "output_type": "stream",
     "text": [
      "Cluster 0:  education  committee  universities  said  indexation  funding  government  palmer  changes  tertiary\n",
      "Cluster 1:  civil  rouhani  servants  city  development  government  waterfront  guardianwitness  partnership  goals\n",
      "Cluster 2:  climate  ice  change  water  sea  warming  said  ocean  global  waters\n",
      "Cluster 3:  climate  change  emissions  energy  carbon  said  countries  global  australia  coal\n",
      "Cluster 4:  people  labour  health  said  work  says  change  time  social  party\n"
     ]
    }
   ],
   "source": [
    "k = 5\n",
    "\n",
    "text = [i['text'] for i in news.find() if i['text'] != '']\n",
    "\n",
    "vect = TfidfVectorizer(encoding='ascii', stop_words='english')\n",
    "X = vect.fit_transform(text)\n",
    "model = KMeans(k)\n",
    "model.fit(X)\n",
    "order_centroids = model.cluster_centers_.argsort()[:, ::-1]\n",
    "terms = vect.get_feature_names() \n",
    "\n",
    "for i in range(k):\n",
    "    print \"Cluster %d:\" % i,\n",
    "    for ind in order_centroids[i, :10]:\n",
    "        print ' %s' % terms[ind],\n",
    "    print"
   ]
  },
  {
   "cell_type": "markdown",
   "metadata": {},
   "source": [
    "Cool. It seems like there's something to this. This is an example I picked out from one iteration of this code:\n",
    "\n",
    "- Cluster 0: people and politcs\n",
    "- Cluster 1: melting water\n",
    "- Cluster 2: public policy, students and education\n",
    "- Cluster 3: climate change and coal emissions \n",
    "- Cluster 4: offenses against women in somalia"
   ]
  },
  {
   "cell_type": "markdown",
   "metadata": {},
   "source": [
    "##### Challenge 2\n",
    "\n",
    "Draw the inertia curve over different k values. (The sklearn KMeans class has an inertia_ attribute.)\n"
   ]
  },
  {
   "cell_type": "code",
   "execution_count": 67,
   "metadata": {
    "collapsed": true
   },
   "outputs": [],
   "source": [
    "import matplotlib.pyplot as plt\n",
    "import seaborn as sns\n",
    "%matplotlib inline"
   ]
  },
  {
   "cell_type": "code",
   "execution_count": 140,
   "metadata": {
    "collapsed": false
   },
   "outputs": [],
   "source": [
    "k = xrange(1, 20)\n",
    "inertia = [KMeans(i).fit(X).inertia_ for i in range(1, 20)]"
   ]
  },
  {
   "cell_type": "code",
   "execution_count": 144,
   "metadata": {
    "collapsed": false,
    "scrolled": true
   },
   "outputs": [
    {
     "data": {
      "text/plain": [
       "[<matplotlib.lines.Line2D at 0x10dd4ded0>]"
      ]
     },
     "execution_count": 144,
     "metadata": {},
     "output_type": "execute_result"
    },
    {
     "data": {
      "image/png": "[encoded data removed]",
      "text/plain": [
       "<matplotlib.figure.Figure at 0x111954c10>"
      ]
     },
     "metadata": {},
     "output_type": "display_data"
    }
   ],
   "source": [
    "plt.figure(figsize=(15,7)).suptitle('Inertia as a Function of K in K-Means Clustering', fontsize='15')\n",
    "plt.xlabel('K', fontsize='15')\n",
    "plt.ylabel('Inertia', fontsize='15')\n",
    "plt.plot(k, inertia, color='red')"
   ]
  },
  {
   "cell_type": "markdown",
   "metadata": {},
   "source": [
    "##### Challenge 3\n",
    "\n",
    "__Let's name the clusters 1__\n",
    "\n",
    "For each cluster, find the sentence closest to the centroid of the cluster.\n",
    "\n",
    "(You can use [sklearn.metrics.pairwise_distances](http://scikit-learn.org/stable/modules/generated/sklearn.metrics.pairwise_distances.html#sklearn.metrics.pairwise_distances) or [scipy.spatial.distance](http://docs.scipy.org/doc/scipy/reference/spatial.distance.html) [check `pdist`, `cdist`, and `euclidean distance`] to find distances to the centroid). KMeans has a cluster_centroids_ attribute.\n",
    "\n",
    "This sentence (closest to centroid) is now the name of the cluster. For each cluster, print the representative sentence, and print 'N people expressed a similar statement', or something like that relevant to your dataset. (This is very close to what amazon used to do in the reviews section.)\n",
    "\n",
    "Find the biggest 3 clusters, and print their representative sentences. (This is close to what amazon is doing now in the reviews section, except they choose the sentence from the most helpful review instead of closest to center.)"
   ]
  },
  {
   "cell_type": "code",
   "execution_count": 72,
   "metadata": {
    "collapsed": false
   },
   "outputs": [
    {
     "name": "stdout",
     "output_type": "stream",
     "text": [
      "[(array([ 435, 3725, 4728, 4029, 3899]), array([ 0.95608094,  0.77835829,  0.88176476,  0.51794217,  0.66751893]))]\n"
     ]
    }
   ],
   "source": [
    "from sklearn.metrics import pairwise_distances_argmin_min\n",
    "closest_points = [pairwise_distances_argmin_min(KMeans(n_clusters=5).fit(X).cluster_centers_, X)]\n",
    "print closest_points\n"
   ]
  },
  {
   "cell_type": "code",
   "execution_count": 73,
   "metadata": {
    "collapsed": false
   },
   "outputs": [
    {
     "name": "stdout",
     "output_type": "stream",
     "text": [
      "Cluster 0:  education  committee  universities  said  indexation  funding  government  palmer  changes  tertiary \n",
      "     Closest Text to Centroid:\n",
      "HM: Hugh Muir JV: John Vidal SG: Suzanne Goldenberg JW: Jonathan Watts EGH: Emma Graham-Harrison MM: Monica Mark SB: Sarah Boseley MA: Morie Amadou MR: Mustafa Rogers RS: Dr Ramona Sunderwirth CDM: Clément Besse Desmoulieres DS: David Smith ADS: Alex Duval Smith AOdB: Anton Op de Beke CB: Coumba Bah [Jingle: The Guardian] HM Hello and welcome to the Global development podcast. I’m Hugh Muir. This month, something different. We’ll be returning to some of the people and issues we’ve talked about t\n",
      "\n",
      "Cluster 1:  civil  rouhani  servants  city  development  government  waterfront  guardianwitness  partnership  goals \n",
      "     Closest Text to Centroid:\n",
      "In 2000, world leaders came together and agreed to the eight millennium development goals – an unprecedented framework under which we have seen incredible progress against poverty and other challenges faced by the world’s most poor. But the world has changed radically in the last 15 years and we must now expand on progress, build on existing momentum and learn from the lessons the MDGs have offered us. The new goals must apply to all countries The sustainable development agenda cannot only be ab\n",
      "\n",
      "Cluster 2:  climate  ice  change  water  sea  warming  said  ocean  global  waters \n",
      "     Closest Text to Centroid:\n",
      "Nearly two-thirds of people believe that negotiators at key UN climate talks in December should do “whatever it takes” to limit global warming to a 2C rise, according to what is believed to be the most comprehensive survey of global public attitudes to climate change ever conducted. The Worldwide Views on Climate and Energy consultation involved 10,000 citizens from 79 developed and developing countries. It was initiated by a coalition including the United Nations’ Framework Convention on Climat\n",
      "\n",
      "Cluster 3:  climate  change  emissions  energy  carbon  said  countries  global  australia  coal \n",
      "     Closest Text to Centroid:\n",
      "A group of universities is ramping up pressure on crossbench senators to pass higher education changes, saying a cut to funding without giving institutions a chance to recoup the money would be disastrous. A Coalition dominated Senate committee looking at the changes released its report on Tuesday, in which it threw support behind elements of the bill and opened the possibility of negotiating on a few other controversial proposals. The government announced a decrease in funding for the education\n",
      "\n",
      "Cluster 4:  people  labour  health  said  work  says  change  time  social  party \n",
      "     Closest Text to Centroid:\n",
      "Just this week, a new study has appeared which describes a clever method for measuring the flows of ocean currents and their impacts on ice shelves. This study has identified a major mechanism for melting ice in the Southern Hemisphere. The paper, co-authored by Andrew Thompson, Karen Heywood, and colleagues is very novel. The scientists used sea gliders to identify water flows that bring warm waters to the base of ice shelves in Antarctica. As I’ve written before, ocean currents are complex; yo\n",
      "\n"
     ]
    }
   ],
   "source": [
    "for i in range(k):\n",
    "    print \"Cluster %d:\" % i,\n",
    "    for ind in order_centroids[i, :10]:\n",
    "        print ' %s' % terms[ind],\n",
    "    print '\\n     Closest Text to Centroid:'\n",
    "    print text[closest_points[0][0][i]][:500]\n",
    "    print"
   ]
  },
  {
   "cell_type": "markdown",
   "metadata": {},
   "source": [
    "\n",
    "##### Challenge 4\n",
    "\n",
    "__Let's name the clusters 2__\n",
    "\n",
    "Calculate the tf-idf of each word in each cluster (think of all sentences of a cluster together as a document). Represent each cluster with the top 1, or top 2 or... to 5 tf-idf words. For each cluster, print the name (keywords) of the cluster, and \"N statements\" in the cluster (N is the size of the cluster)\n"
   ]
  },
  {
   "cell_type": "code",
   "execution_count": 157,
   "metadata": {
    "collapsed": false
   },
   "outputs": [
    {
     "name": "stdout",
     "output_type": "stream",
     "text": [
      "Cluster 0 had 120 objects relating to the following terms\n",
      " education  committee  universities  said  indexation \n",
      "\n",
      "Cluster 1 had 388 objects relating to the following terms\n",
      " civil  rouhani  servants  city  development \n",
      "\n",
      "Cluster 2 had 1317 objects relating to the following terms\n",
      " climate  ice  change  water  sea \n",
      "\n",
      "Cluster 3 had 1450 objects relating to the following terms\n",
      " climate  change  emissions  energy  carbon \n",
      "\n",
      "Cluster 4 had 1691 objects relating to the following terms\n",
      " people  labour  health  said  work \n",
      "\n"
     ]
    }
   ],
   "source": [
    "from collections import defaultdict\n",
    "tp = [(label, blob) for label, blob in zip(model.labels_, text)]\n",
    "paired = defaultdict(list)\n",
    "\n",
    "for k,v in tp:\n",
    "    paired[k].append(v)\n",
    "\n",
    "for k,v in paired.items():\n",
    "    print \"Cluster %s had %d objects relating to the following terms\" % (k, len(v))\n",
    "    for ind in order_centroids[k, :5]:\n",
    "        print ' %s' % terms[ind],\n",
    "    print '\\n'\n",
    "        "
   ]
  },
  {
   "cell_type": "markdown",
   "metadata": {},
   "source": [
    "##### Challenge 5\n",
    "\n",
    "__Let's name the clusters 3__\n",
    "\n",
    "Same as the previous challenge, but this time, calculate tf-idf only for nouns (NN tag) and build keyword(s) with nouns. (This is close to what amazon switched to last year, before settling into the current design). (They would show five nouns, you would click on one and it would show sentences - linked to the reviews- that were related to that noun.)"
   ]
  },
  {
   "cell_type": "code",
   "execution_count": null,
   "metadata": {
    "collapsed": true
   },
   "outputs": [],
   "source": [
    "from collections import defaultdict\n",
    "tp = [(label, blob) for label, blob in zip(model.labels_, text)]\n",
    "paired = defaultdict(list)\n",
    "for k,v in tp:\n",
    "    paired[k].append(v)\n",
    "\n",
    "for k,v in paired.items():\n",
    "    print \"Cluster %s had %d objects relating to the following terms\" % (k, len(v))\n",
    "    for ind in order_centroids[k, :5]:\n",
    "        print ' %s' % terms[ind],\n",
    "    print '\\n'\n",
    "\n",
    "\n"
   ]
  },
  {
   "cell_type": "markdown",
   "metadata": {},
   "source": [
    "##### Challenge 6\n",
    "\n",
    "Cluster the same data with [MiniBatchKMeans](http://scikit-learn.org/stable/modules/generated/sklearn.cluster.MiniBatchKMeans.html). MiniBatchKMeans is a fast way to apply K-means to large data without much loss -- The results are very similar. Instead of using EVERY single point to find the new place of the centroid, MiniBatch just randomly samples a small number (like 100) in the cluster to calculate the new center. Since this is usually very close to the actual center, the algorithm gets there much faster. Try it and compare the results. ([Example on two-feature data](http://scikit-learn.org/stable/auto_examples/cluster/plot_mini_batch_kmeans.html))"
   ]
  },
  {
   "cell_type": "code",
   "execution_count": null,
   "metadata": {
    "collapsed": true
   },
   "outputs": [],
   "source": []
  },
  {
   "cell_type": "markdown",
   "metadata": {},
   "source": [
    "##### Challenge 7\n",
    "\n",
    "Switch the __init__ parameter to \"random\" (instead of the default kmeans++) and plot the inertia curve for each of the __n_init__ values for K-Means: 1, 2, 3, 10 (n_init is the number of different runs to try with different random initializations).\n"
   ]
  },
  {
   "cell_type": "code",
   "execution_count": null,
   "metadata": {
    "collapsed": true
   },
   "outputs": [],
   "source": []
  },
  {
   "cell_type": "markdown",
   "metadata": {},
   "source": [
    "##### Challenge 8\n",
    "\n",
    "Download [this dataset on the purchase stats from clients of a wholesale distributor](https://archive.ics.uci.edu/ml/datasets/Wholesale+customers). Cluster the clients based on their annual spending features (fresh, milk, grocery, frozen, detergents_paper, delicatessen). Remember to scale the features before clustering. After finding a reasonable amount of clusters, for EACH cluster, plot the histogram for every single feature: FRESH, MILK, GROCERY, FROZEN, DETERGENTS_PAPER, DELICATESSEN, CHANNEL, REGION. Is there a natural way to characterize each cluster? How would you describe each cluster to the wholesale distributor if you were working for them?"
   ]
  },
  {
   "cell_type": "code",
   "execution_count": null,
   "metadata": {
    "collapsed": true
   },
   "outputs": [],
   "source": []
  },
  {
   "cell_type": "markdown",
   "metadata": {},
   "source": [
    "#### Clustering Extensions (Optional)\n",
    "\n",
    "Use the same code for your previous clustering challenges.\n",
    "\n",
    "Repeat each challenge (except the inertia curves, since only the KMeans implementation gives a quick way of calculating that.) However, this time, try (both) Agglomerative Clustering and DBSCAN instead of KMeans.\n",
    "\n",
    "For text clustering, use cosine distance.\n"
   ]
  },
  {
   "cell_type": "code",
   "execution_count": null,
   "metadata": {
    "collapsed": true
   },
   "outputs": [],
   "source": []
  },
  {
   "cell_type": "markdown",
   "metadata": {},
   "source": [
    "Additional work:"
   ]
  },
  {
   "cell_type": "code",
   "execution_count": 102,
   "metadata": {
    "collapsed": false
   },
   "outputs": [],
   "source": [
    "from textblob import TextBlob\n",
    "\n",
    "dates = [i['date'] for i in news.find() if i['text'] != '']\n",
    "polarity = [TextBlob(i).sentiment.polarity for i in text]\n",
    "subjectivity = [TextBlob(i).sentiment.subjectivity for i in text]"
   ]
  },
  {
   "cell_type": "code",
   "execution_count": 101,
   "metadata": {
    "collapsed": false
   },
   "outputs": [
    {
     "data": {
      "image/png": "[encoded data removed]",
      "text/plain": [
       "<matplotlib.figure.Figure at 0x11c1b7950>"
      ]
     },
     "metadata": {},
     "output_type": "display_data"
    }
   ],
   "source": [
    "polarity = [TextBlob(i).sentiment.polarity for i in text]\n",
    "subjectivity = [TextBlob(i).sentiment.subjectivity for i in text]\n",
    "plt.figure(figsize=(15,7)).suptitle('Subjectivity and Polarity about Climate Change 2012-2015', fontsize='15')\n",
    "plt.xlabel('Date', fontsize='15')\n",
    "plt.plot(xrange(len(dates)), polarity, color='green')\n",
    "plt.plot(xrange(len(dates)), subjectivity, color='blue')\n",
    "plt.legend(['polarity', 'subjectivity'], loc='upper left')\n",
    "plt.show()\n"
   ]
  },
  {
   "cell_type": "code",
   "execution_count": 21,
   "metadata": {
    "collapsed": false
   },
   "outputs": [
    {
     "data": {
      "text/plain": [
       "1347"
      ]
     },
     "execution_count": 21,
     "metadata": {},
     "output_type": "execute_result"
    }
   ],
   "source": [
    "users = client.twitter_data.users\n",
    "users.count()"
   ]
  },
  {
   "cell_type": "code",
   "execution_count": 22,
   "metadata": {
    "collapsed": false
   },
   "outputs": [],
   "source": [
    "#text = [i['tweets'] for i in users.find() if i['tweets'] != '']\n",
    "raw_text = [i['tweets'] for i in users.aggregate(\n",
    "        [{\"$project\":{\"tweets\":\"$tweets\"}},{\"$unwind\":\"$tweets\"}]) if i['tweets'] > ['']]\n",
    "\n",
    "text = []\n",
    "for i in raw_text:\n",
    "    i  = ' '.join(filter(lambda x: bool(wordnet.synsets(x)), i.split(' ')))\n",
    "    if len(i) > 5:\n",
    "        text.append(i)\n",
    "    "
   ]
  },
  {
   "cell_type": "code",
   "execution_count": 50,
   "metadata": {
    "collapsed": false
   },
   "outputs": [
    {
     "name": "stdout",
     "output_type": "stream",
     "text": [
      "Cluster 0:  life  god  god life  angel life  stop\n",
      "Cluster 1:  follow  follow follow  guys follow  follow thank  gain follow\n",
      "Cluster 2:  orang  masa  lain  orang lain  yang\n",
      "Cluster 3:  new  follow  happy  day  direction\n",
      "Cluster 4:  good  morning  good morning  good night  good afternoon\n",
      "Cluster 5:  possible love  tried possible  follow tried  possible  tried\n",
      "Cluster 6:  twitter  follow twitter  follow  new twitter  new\n",
      "Cluster 7:  love  love love  love guys  guys  support love\n",
      "Cluster 8:  got  time  got time  just got  just\n",
      "Cluster 9:  followers  follow followers  need followers  free followers  need\n",
      "Cluster 10:  thanks  follow thanks  follow  free twins  members thanks\n",
      "Cluster 11:  ga  ada  ga tau  ada ga  tau\n",
      "Cluster 12:  best  best friend  friend  best thing  best friends\n",
      "Cluster 13:  make  just make  just  laugh  ha\n",
      "Cluster 14:  like  feel like  page  feel  looks\n",
      "Cluster 15:  aku  aku aku  km  yang  dong\n",
      "Cluster 16:  yang  orang yang  orang  ada yang  yang yang\n",
      "Cluster 17:  today  today new  new  new followed  followed\n",
      "Cluster 18:  think  long  hate  makes  know\n",
      "Cluster 19:  want  just want  want new  want sex  want want\n",
      "Cluster 20:  oh  oh yang  kaki  oh way  oh fuck\n",
      "Cluster 21:  come  need come  come south  south  need\n",
      "Cluster 22:  followed  today followed  followed person  person  today\n",
      "Cluster 23:  live  coming live  live score  score  coming\n",
      "Cluster 24:  just  check  just pinned  pinned  just posted\n"
     ]
    }
   ],
   "source": [
    "k = 25\n",
    "vect = TfidfVectorizer(ngram_range=(1,2), stop_words='english')\n",
    "X = vect.fit_transform(text)\n",
    "model = KMeans(k)\n",
    "model.fit(X)\n",
    "order_centroids = model.cluster_centers_.argsort()[:, ::-1]\n",
    "terms = vect.get_feature_names() \n",
    "\n",
    "k = len(order_centroids)\n",
    "for i in range(k):\n",
    "    print \"Cluster %d:\" % i,\n",
    "    for ind in order_centroids[i, :5]:\n",
    "        print ' %s' % terms[ind],\n",
    "    print\n",
    "    "
   ]
  },
  {
   "cell_type": "code",
   "execution_count": 57,
   "metadata": {
    "collapsed": false
   },
   "outputs": [
    {
     "name": "stdout",
     "output_type": "stream",
     "text": [
      "Cluster 0:  life  god  god life  angel life  stop \n",
      " Centroid Tweet: aku done\n",
      "\n",
      "Cluster 1:  follow  follow follow  guys follow  follow thank  gain follow \n",
      " Centroid Tweet: it Like\n",
      "\n",
      "Cluster 2:  orang  masa  lain  orang lain  yang \n",
      " Centroid Tweet: yang u\n",
      "\n",
      "Cluster 3:  new  follow  happy  day  direction \n",
      " Centroid Tweet: one direction\n",
      "\n",
      "Cluster 4:  good  morning  good morning  good night  good afternoon \n",
      " Centroid Tweet: i love can i have it in\n",
      "\n",
      "Cluster 5:  possible love  tried possible  follow tried  possible  tried \n",
      " Centroid Tweet: Followed Me on\n",
      "\n",
      "Cluster 6:  twitter  follow twitter  follow  new twitter  new \n",
      " Centroid Tweet: first world\n",
      "\n",
      "Cluster 7:  love  love love  love guys  guys  support love \n",
      " Centroid Tweet: Follow Back\n",
      "\n",
      "Cluster 8:  got  time  got time  just got  just \n",
      " Centroid Tweet: ka na sa\n",
      "\n",
      "Cluster 9:  followers  follow followers  need followers  free followers  need \n",
      " Centroid Tweet: come over\n",
      "\n",
      "Cluster 10:  thanks  follow thanks  follow  free twins  members thanks \n",
      " Centroid Tweet: LIVE on\n",
      "\n",
      "Cluster 11:  ga  ada  ga tau  ada ga  tau \n",
      " Centroid Tweet: Follow Back\n",
      "\n",
      "Cluster 12:  best  best friend  friend  best thing  best friends \n",
      " Centroid Tweet: de o Twitter\n",
      "\n",
      "Cluster 13:  make  just make  just  laugh  ha \n",
      " Centroid Tweet: Today No new One\n",
      "\n",
      "Cluster 14:  like  feel like  page  feel  looks \n",
      " Centroid Tweet: Just 2 much\n",
      "\n",
      "Cluster 15:  aku  aku aku  km  yang  dong \n",
      " Centroid Tweet: He thanks\n",
      "\n",
      "Cluster 16:  yang  orang yang  orang  ada yang  yang yang \n",
      " Centroid Tweet: a great\n",
      "\n",
      "Cluster 17:  today  today new  new  new followed  followed \n",
      " Centroid Tweet: GOOD MORNING\n",
      "\n",
      "Cluster 18:  think  long  hate  makes  know \n",
      " Centroid Tweet: happy birthday\n",
      "\n",
      "Cluster 19:  want  just want  want new  want sex  want want \n",
      " Centroid Tweet: I think\n",
      "\n",
      "Cluster 20:  oh  oh yang  kaki  oh way  oh fuck \n",
      " Centroid Tweet: Time a\n",
      "\n",
      "Cluster 21:  come  need come  come south  south  need \n",
      " Centroid Tweet: Best show\n",
      "\n",
      "Cluster 22:  followed  today followed  followed person  person  today \n",
      " Centroid Tweet: EVERY DAY\n",
      "\n",
      "Cluster 23:  live  coming live  live score  score  coming \n",
      " Centroid Tweet: Having fun playing why not join me\n",
      "\n"
     ]
    }
   ],
   "source": [
    "from sklearn.metrics import pairwise_distances_argmin_min\n",
    "\n",
    "closest_points = [pairwise_distances_argmin_min(KMeans(n_clusters=k).fit(X).cluster_centers_, X, metric='cosine')]\n",
    "\n",
    "for i in range(k):\n",
    "    print \"Cluster %d:\" % i,\n",
    "    for ind in order_centroids[i, :5]:\n",
    "        print ' %s' % terms[ind],\n",
    "    print '\\n Centroid Tweet: ' + text[closest_points[0][0][i]]\n",
    "    print\n",
    "        "
   ]
  },
  {
   "cell_type": "code",
   "execution_count": 52,
   "metadata": {
    "collapsed": false
   },
   "outputs": [
    {
     "name": "stdout",
     "output_type": "stream",
     "text": [
      "Cluster 0 had 60 objects relating to the following terms\n",
      " life  god  god life  angel life  stop \n",
      "\n",
      "Cluster 1 had 125 objects relating to the following terms\n",
      " follow  follow follow  guys follow  follow thank  gain follow \n",
      "\n",
      "Cluster 2 had 38 objects relating to the following terms\n",
      " orang  masa  lain  orang lain  yang \n",
      "\n",
      "Cluster 3 had 4827 objects relating to the following terms\n",
      " new  follow  happy  day  direction \n",
      "\n",
      "Cluster 4 had 84 objects relating to the following terms\n",
      " good  morning  good morning  good night  good afternoon \n",
      "\n",
      "Cluster 5 had 20 objects relating to the following terms\n",
      " possible love  tried possible  follow tried  possible  tried \n",
      "\n",
      "Cluster 6 had 59 objects relating to the following terms\n",
      " twitter  follow twitter  follow  new twitter  new \n",
      "\n",
      "Cluster 7 had 140 objects relating to the following terms\n",
      " love  love love  love guys  guys  support love \n",
      "\n",
      "Cluster 8 had 93 objects relating to the following terms\n",
      " got  time  got time  just got  just \n",
      "\n",
      "Cluster 9 had 33 objects relating to the following terms\n",
      " followers  follow followers  need followers  free followers  need \n",
      "\n",
      "Cluster 10 had 61 objects relating to the following terms\n",
      " thanks  follow thanks  follow  free twins  members thanks \n",
      "\n",
      "Cluster 11 had 52 objects relating to the following terms\n",
      " ga  ada  ga tau  ada ga  tau \n",
      "\n",
      "Cluster 12 had 98 objects relating to the following terms\n",
      " best  best friend  friend  best thing  best friends \n",
      "\n",
      "Cluster 13 had 85 objects relating to the following terms\n",
      " make  just make  just  laugh  ha \n",
      "\n",
      "Cluster 14 had 168 objects relating to the following terms\n",
      " like  feel like  page  feel  looks \n",
      "\n",
      "Cluster 15 had 87 objects relating to the following terms\n",
      " aku  aku aku  km  yang  dong \n",
      "\n",
      "Cluster 16 had 97 objects relating to the following terms\n",
      " yang  orang yang  orang  ada yang  yang yang \n",
      "\n",
      "Cluster 17 had 71 objects relating to the following terms\n",
      " today  today new  new  new followed  followed \n",
      "\n",
      "Cluster 18 had 56 objects relating to the following terms\n",
      " think  long  hate  makes  know \n",
      "\n",
      "Cluster 19 had 86 objects relating to the following terms\n",
      " want  just want  want new  want sex  want want \n",
      "\n",
      "Cluster 20 had 27 objects relating to the following terms\n",
      " oh  oh yang  kaki  oh way  oh fuck \n",
      "\n",
      "Cluster 21 had 81 objects relating to the following terms\n",
      " come  need come  come south  south  need \n",
      "\n",
      "Cluster 22 had 32 objects relating to the following terms\n",
      " followed  today followed  followed person  person  today \n",
      "\n",
      "Cluster 23 had 28 objects relating to the following terms\n",
      " live  coming live  live score  score  coming \n",
      "\n",
      "Cluster 24 had 200 objects relating to the following terms\n",
      " just  check  just pinned  pinned  just posted \n",
      "\n"
     ]
    }
   ],
   "source": [
    "from collections import defaultdict\n",
    "\n",
    "tp = [(label, blob) for label, blob in zip(model.labels_, text)]\n",
    "paired = defaultdict(list)\n",
    "for k,v in tp:\n",
    "    paired[k].append(v)\n",
    "\n",
    "for k,v in paired.items():\n",
    "    print \"Cluster %s had %d objects relating to the following terms\" % (k, len(v))\n",
    "    for ind in order_centroids[k, :5]:\n",
    "        print ' %s' % terms[ind],\n",
    "    print '\\n'\n",
    "    \n",
    "    "
   ]
  },
  {
   "cell_type": "code",
   "execution_count": 90,
   "metadata": {
    "collapsed": false
   },
   "outputs": [],
   "source": [
    "from sklearn.metrics.pairwise import pairwise_distances \n",
    "test = 'want just want sex'\n",
    "clust = model.predict(vect.transform([test, test, test]))\n",
    "a = int(clust.mean()) # mean cluster score for your tweets\n",
    "for i in users.find():\n",
    "    users.update({\"_id\": i[\"_id\"]},\n",
    "                 {'$set': {'cluster_score': int(np.average(model.predict(vect.transform(i['tweets']))))}})"
   ]
  },
  {
   "cell_type": "code",
   "execution_count": 94,
   "metadata": {
    "collapsed": false
   },
   "outputs": [
    {
     "name": "stdout",
     "output_type": "stream",
     "text": [
      "[u'Lessa', u'Pawan Paudel', u'soe pyae tun', u'Kennedy Jo Griffiths', u'Yus ril']\n"
     ]
    }
   ],
   "source": [
    "a = int(clust.mean()) # mean cluster score for your tweets\n",
    "a = 3\n",
    "stuff = [i['user'] for i in users.find({'cluster_score': a})]\n",
    "print stuff[:5]"
   ]
  },
  {
   "cell_type": "code",
   "execution_count": 64,
   "metadata": {
    "collapsed": false
   },
   "outputs": [
    {
     "ename": "AttributeError",
     "evalue": "'ResultSet' object has no attribute 'statuses'",
     "output_type": "error",
     "traceback": [
      "\u001b[0;31m---------------------------------------------------------------------------\u001b[0m",
      "\u001b[0;31mAttributeError\u001b[0m                            Traceback (most recent call last)",
      "\u001b[0;32m<ipython-input-64-423810ef5f49>\u001b[0m in \u001b[0;36m<module>\u001b[0;34m()\u001b[0m\n\u001b[1;32m     15\u001b[0m \u001b[0;34m\u001b[0m\u001b[0m\n\u001b[1;32m     16\u001b[0m \u001b[0mtwets\u001b[0m \u001b[0;34m=\u001b[0m \u001b[0mapi\u001b[0m\u001b[0;34m.\u001b[0m\u001b[0muser_timeline\u001b[0m\u001b[0;34m(\u001b[0m\u001b[0;34m\"derekjanni\"\u001b[0m\u001b[0;34m,\u001b[0m \u001b[0mcount\u001b[0m\u001b[0;34m=\u001b[0m\u001b[0;36m5\u001b[0m\u001b[0;34m)\u001b[0m\u001b[0;34m\u001b[0m\u001b[0m\n\u001b[0;32m---> 17\u001b[0;31m \u001b[0;32mprint\u001b[0m \u001b[0mtwets\u001b[0m\u001b[0;34m.\u001b[0m\u001b[0mstatuses\u001b[0m\u001b[0;34m\u001b[0m\u001b[0m\n\u001b[0m\u001b[1;32m     18\u001b[0m \u001b[0;34m\u001b[0m\u001b[0m\n\u001b[1;32m     19\u001b[0m \u001b[0;34m\u001b[0m\u001b[0m\n",
      "\u001b[0;31mAttributeError\u001b[0m: 'ResultSet' object has no attribute 'statuses'"
     ]
    }
   ],
   "source": [
    "import tweepy\n",
    "import cnfg\n",
    "config = cnfg.load(\".twitter_config\")\n",
    "auth = tweepy.OAuthHandler(config[\"consumer_key\"],\n",
    "                           config[\"consumer_secret\"])\n",
    "auth.set_access_token(config[\"access_token\"],\n",
    "                      config[\"access_token_secret\"])\n",
    "api = tweepy.API(auth, wait_on_rate_limit=True)\n",
    "\n",
    "tweets = api.user_timeline(\"derekjanni\", count=5)\n",
    "text = [i.text for i in twets]\n",
    "print text\n"
   ]
  },
  {
   "cell_type": "code",
   "execution_count": 67,
   "metadata": {
    "collapsed": false
   },
   "outputs": [
    {
     "name": "stdout",
     "output_type": "stream",
     "text": [
      "[u\"guys i think i'm gonna get a 'git r done' tattoo i'm really sorry\", u'quick #mapreduce in #MongoDB to visualize some popular metal-movie tropes by decade! Video Nasty? @thisismetis http://t.co/b5nPFV8GSp', u'mfw i move to largest city in US and still no dnb scene', u'oh god the end has come, RIP #burningman \\nhttp://t.co/aMpu7zkFZH', u'9th place hype #Kaggle #DataScience \\n\\nhttps://t.co/g3GeQNBWGG']\n"
     ]
    }
   ],
   "source": [
    "text = [i.text for i in twets]\n",
    "print text"
   ]
  },
  {
   "cell_type": "code",
   "execution_count": null,
   "metadata": {
    "collapsed": true
   },
   "outputs": [],
   "source": []
  }
 ],
 "metadata": {
  "kernelspec": {
   "display_name": "Python 2",
   "language": "python",
   "name": "python2"
  },
  "language_info": {
   "codemirror_mode": {
    "name": "ipython",
    "version": 2
   },
   "file_extension": ".py",
   "mimetype": "text/x-python",
   "name": "python",
   "nbconvert_exporter": "python",
   "pygments_lexer": "ipython2",
   "version": "2.7.10"
  }
 },
 "nbformat": 4,
 "nbformat_minor": 0
}
