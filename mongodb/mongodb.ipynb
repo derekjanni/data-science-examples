{
 "cells": [
  {
   "cell_type": "markdown",
   "metadata": {},
   "source": [
    "#Challenges 12: MongoDB"
   ]
  },
  {
   "cell_type": "code",
   "execution_count": 2,
   "metadata": {
    "collapsed": false
   },
   "outputs": [],
   "source": [
    "import pickle\n",
    "from pprint import pprint\n",
    "with open(\"heavy_metal_parsed.pkl\", 'r') as datafile:\n",
    "    heavy_metal_reviews = pickle.load(datafile)"
   ]
  },
  {
   "cell_type": "code",
   "execution_count": 5,
   "metadata": {
    "collapsed": false
   },
   "outputs": [],
   "source": [
    "# mongodb\n",
    "from pymongo import MongoClient\n",
    "client = MongoClient('mongodb://52.10.8.92:27017/')\n",
    "client.heavy_metal_reviews.hm.remove()\n",
    "metal = client.heavy_metal_reviews.h_m\n",
    "for review in heavy_metal_reviews:\n",
    "    metal.save(review)"
   ]
  },
  {
   "cell_type": "markdown",
   "metadata": {},
   "source": [
    "#####Challenge 1\n",
    "Make a histogram of the years in the data. How many metal movies came\n",
    "out over the years?\n"
   ]
  },
  {
   "cell_type": "code",
   "execution_count": 6,
   "metadata": {
    "collapsed": false
   },
   "outputs": [],
   "source": [
    "import matplotlib.pyplot as plt\n",
    "import seaborn as sns\n",
    "%matplotlib inline\n",
    "years = [i['year'] for i in metal.find()]\n"
   ]
  },
  {
   "cell_type": "code",
   "execution_count": 7,
   "metadata": {
    "collapsed": false
   },
   "outputs": [
    {
     "data": {
      "text/plain": [
       "<matplotlib.axes._subplots.AxesSubplot at 0x10acc5a90>"
      ]
     },
     "execution_count": 7,
     "metadata": {},
     "output_type": "execute_result"
    },
    {
     "data": {
      "image/png": "[encoded data removed]",
      "text/plain": [
       "<matplotlib.figure.Figure at 0x10acc5a10>"
      ]
     },
     "metadata": {},
     "output_type": "display_data"
    }
   ],
   "source": [
    "plt.figure(figsize=(15,4)).suptitle('Distribution of Heavy Metal Movies by Year', fontsize='15')\n",
    "plt.xlabel('Year', fontsize='15')\n",
    "plt.ylabel('Number of Movies', fontsize='15')\n",
    "sns.distplot(years, kde=False)"
   ]
  },
  {
   "cell_type": "markdown",
   "metadata": {},
   "source": [
    "##### Challenge 2\n",
    "Find the cast member that appeared in most Heavy Metal movies. Is\n",
    "there one that is shared by more than one of these movies? Or are they\n",
    "all completely different actors for every movie?\n"
   ]
  },
  {
   "cell_type": "code",
   "execution_count": 1,
   "metadata": {
    "collapsed": false
   },
   "outputs": [
    {
     "ename": "NameError",
     "evalue": "name 'metal' is not defined",
     "output_type": "error",
     "traceback": [
      "\u001b[0;31m---------------------------------------------------------------------------\u001b[0m",
      "\u001b[0;31mNameError\u001b[0m                                 Traceback (most recent call last)",
      "\u001b[0;32m<ipython-input-1-8524691e92a1>\u001b[0m in \u001b[0;36m<module>\u001b[0;34m()\u001b[0m\n\u001b[1;32m      1\u001b[0m \u001b[0;32mfrom\u001b[0m \u001b[0mcollections\u001b[0m \u001b[0;32mimport\u001b[0m \u001b[0mCounter\u001b[0m\u001b[0;34m\u001b[0m\u001b[0m\n\u001b[1;32m      2\u001b[0m \u001b[0;32mimport\u001b[0m \u001b[0mnumpy\u001b[0m \u001b[0;32mas\u001b[0m \u001b[0mnp\u001b[0m\u001b[0;34m\u001b[0m\u001b[0m\n\u001b[0;32m----> 3\u001b[0;31m \u001b[0mcast\u001b[0m \u001b[0;34m=\u001b[0m \u001b[0;34m[\u001b[0m\u001b[0mi\u001b[0m\u001b[0;34m[\u001b[0m\u001b[0;34m'cast'\u001b[0m\u001b[0;34m]\u001b[0m \u001b[0;32mfor\u001b[0m \u001b[0mi\u001b[0m \u001b[0;32min\u001b[0m \u001b[0mmetal\u001b[0m\u001b[0;34m.\u001b[0m\u001b[0maggregate\u001b[0m\u001b[0;34m(\u001b[0m\u001b[0;34m[\u001b[0m\u001b[0;34m{\u001b[0m\u001b[0;34m\"$project\"\u001b[0m\u001b[0;34m:\u001b[0m\u001b[0;34m{\u001b[0m\u001b[0;34m\"cast\"\u001b[0m\u001b[0;34m:\u001b[0m\u001b[0;34m\"$cast\"\u001b[0m\u001b[0;34m}\u001b[0m\u001b[0;34m}\u001b[0m\u001b[0;34m,\u001b[0m\u001b[0;34m{\u001b[0m\u001b[0;34m\"$unwind\"\u001b[0m\u001b[0;34m:\u001b[0m\u001b[0;34m\"$cast\"\u001b[0m\u001b[0;34m}\u001b[0m\u001b[0;34m]\u001b[0m\u001b[0;34m)\u001b[0m \u001b[0;32mif\u001b[0m \u001b[0mi\u001b[0m\u001b[0;34m[\u001b[0m\u001b[0;34m'cast'\u001b[0m\u001b[0;34m]\u001b[0m \u001b[0;34m>\u001b[0m \u001b[0;34m''\u001b[0m\u001b[0;34m]\u001b[0m\u001b[0;34m\u001b[0m\u001b[0m\n\u001b[0m",
      "\u001b[0;31mNameError\u001b[0m: name 'metal' is not defined"
     ]
    }
   ],
   "source": [
    "from collections import Counter\n",
    "import numpy as np\n",
    "cast = [i['cast'] for i in metal.aggregate([{\"$project\":{\"cast\":\"$cast\"}},{\"$unwind\":\"$cast\"}]) if i['cast'] > '']"
   ]
  },
  {
   "cell_type": "code",
   "execution_count": null,
   "metadata": {
    "collapsed": true
   },
   "outputs": [],
   "source": [
    "pprint(Counter(cast).most_common(10))"
   ]
  },
  {
   "cell_type": "markdown",
   "metadata": {
    "collapsed": true
   },
   "source": [
    "##### Challenge 3\n",
    "Find the most used words in Heavy Metal film titles. Is there a word\n",
    "that appears in a lot of them? Is it \"The\"? If it is something like\n",
    "\"the\", How can you get around that? Find one \"meaningful\" word that\n",
    "appears the most (this means non-structural word, unlike \"the\" or \"a\"\n",
    "or \"in\")\n"
   ]
  },
  {
   "cell_type": "code",
   "execution_count": 23,
   "metadata": {
    "collapsed": false
   },
   "outputs": [
    {
     "name": "stdout",
     "output_type": "stream",
     "text": [
      "METAL 58.0\n",
      "DEAD 46.0\n",
      "HEAVY 36.0\n",
      "ROCK 34.0\n",
      "BLACK 28.0\n",
      "BLOOD 28.0\n",
      "LAST 26.0\n",
      "DEATH 24.0\n",
      "DEVIL 24.0\n",
      "NIGHT 24.0\n"
     ]
    }
   ],
   "source": [
    "from nltk import word_tokenize\n",
    "from nltk.corpus import stopwords \n",
    "from bson.son import SON\n",
    "from bson.code import Code\n",
    "\n",
    "mapper = Code(\"\"\"function () {\n",
    "                 this.title.split(\" \").forEach(function(z) {\n",
    "                    if(z.length > 3)\n",
    "                   emit(z, 1);\n",
    "                    });\n",
    "                }\"\"\")\n",
    "\n",
    "\n",
    "reducer = Code(\"\"\"function (words, values) {\n",
    "                    var total = 0;            \n",
    "                    for (var i = 0; i < values.length; i++) {\n",
    "                         total += values[i];\n",
    "                    }\n",
    "                    return total;\n",
    "                  }\"\"\")\n",
    " \n",
    "result = metal.map_reduce(mapper, reducer, \"myresults\")\n",
    "\n",
    "for i in result.find().sort('value', -1).limit(10):\n",
    "    print i['_id'], i['value']"
   ]
  },
  {
   "cell_type": "markdown",
   "metadata": {
    "collapsed": true
   },
   "source": [
    "\n",
    "##### Challenge 4\n",
    "METAL CRED section lists themes included in these movies that makes\n",
    "them more metal.\n",
    "What were the top 5 metal cred keywords in the 70s? In 80s? In 90s, In\n",
    "2000s?\n"
   ]
  },
  {
   "cell_type": "code",
   "execution_count": 24,
   "metadata": {
    "collapsed": false
   },
   "outputs": [
    {
     "name": "stdout",
     "output_type": "stream",
     "text": [
      "1970's\n",
      "-------------------------------\n",
      "Satan 38.0\n",
      "Black Mass 20.0\n",
      "Giallo 12.0\n",
      "Video Nasty 12.0\n",
      "Manson Family 10.0\n",
      "-------------------------------\n",
      "1980's\n",
      "-------------------------------\n",
      "Post-Apocalypse 56.0\n",
      "Sword and Sorcery 38.0\n",
      "Satan 28.0\n",
      "Video Nasty 24.0\n",
      "Zombies 22.0\n",
      "-------------------------------\n",
      "1990's\n",
      "-------------------------------\n",
      "Gwar 12.0\n",
      "Satan 12.0\n",
      "Lemmy 8.0\n",
      "Alice Cooper 6.0\n",
      "Iggy Pop 6.0\n",
      "-------------------------------\n",
      "2000's\n",
      "-------------------------------\n",
      "Torture Porn 16.0\n",
      "Satan 12.0\n",
      "Billy Puppet 8.0\n",
      "Christopher Lee 8.0\n",
      "Jigsaw 8.0\n",
      "-------------------------------\n"
     ]
    },
    {
     "data": {
      "text/plain": [
       "{u'Billy Puppet': 8.0,\n",
       " u'Christopher Lee': 8.0,\n",
       " u'Jigsaw': 8.0,\n",
       " u'Satan': 12.0,\n",
       " u'Torture Porn': 16.0}"
      ]
     },
     "execution_count": 24,
     "metadata": {},
     "output_type": "execute_result"
    }
   ],
   "source": [
    "#cred = metal.find({'year':{'$in':range(1970, 1979)}}).collection\n",
    "\n",
    "def get_aggregate_cred(y1, y2):\n",
    "    mapper = Code(\"\"\"function () {\n",
    "                 this.metal_cred.forEach(function(z) {\n",
    "                    if(z != 'METAL CRED')\n",
    "                   emit(z, 1);\n",
    "                    });\n",
    "                }\"\"\")\n",
    "\n",
    "\n",
    "    reducer = Code(\"\"\"function (words, values) {\n",
    "                    var total = 0;            \n",
    "                    for (var i = 0; i < values.length; i++) {\n",
    "                         total += values[i];\n",
    "                    }\n",
    "                    return total;\n",
    "                  }\"\"\")\n",
    "\n",
    "\n",
    "    result = metal.map_reduce(mapper, reducer, \"cred\", query={'year':{'$in':range(y1, y2)}})\n",
    "    print('-------------------------------')\n",
    "    for i in result.find().sort('value', -1).limit(5):\n",
    "        print i['_id'], i['value']\n",
    "    print('-------------------------------')\n",
    "    return {i['_id']: i['value'] for i in result.find().sort('value', -1).limit(5)}\n",
    "\n",
    "print('1970\\'s')\n",
    "seventies = get_aggregate_cred(1970, 1979)\n",
    "print('1980\\'s')\n",
    "eighties = get_aggregate_cred(1980, 1989)\n",
    "print('1990\\'s')\n",
    "nineties = get_aggregate_cred(1990, 1999)\n",
    "print('2000\\'s')\n",
    "get_aggregate_cred(2000, 2009)"
   ]
  },
  {
   "cell_type": "code",
   "execution_count": 494,
   "metadata": {
    "collapsed": false
   },
   "outputs": [
    {
     "name": "stdout",
     "output_type": "stream",
     "text": [
      "{u'Post-Apocalypse': 28.0, u'Satan': 14.0, u'Zombies': 11.0, u'Sword and Sorcery': 19.0, u'Video Nasty': 12.0}\n"
     ]
    },
    {
     "data": {
      "text/plain": [
       "<matplotlib.axes._subplots.AxesSubplot at 0x11d6c1b90>"
      ]
     },
     "execution_count": 494,
     "metadata": {},
     "output_type": "execute_result"
    },
    {
     "data": {
      "image/png": "[encoded data removed]",
      "text/plain": [
       "<matplotlib.figure.Figure at 0x11da9ea50>"
      ]
     },
     "metadata": {},
     "output_type": "display_data"
    }
   ],
   "source": [
    "import pandas as pd\n",
    "print eighties\n",
    "edf = pd.DataFrame(data={'Theme': eighties.keys(), 'Frequency': eighties.values()})\n",
    "sdf = pd.DataFrame(data={'Theme': seventies.keys(), 'Frequency': seventies.values()})\n",
    "ndf = pd.DataFrame(data={'Theme': nineties.keys(), 'Frequency': nineties.values()})\n",
    "edf['Decade'] = '1980\\'s'\n",
    "sdf['Decade'] = '1970\\'s'\n",
    "ndf['Decade'] = '1990\\'s'\n",
    "df = pd.concat([sdf, edf, ndf])\n",
    "\n",
    "\n",
    "plt.figure(figsize=(15,7)).suptitle('Frequency of Popular Tropes In Metal Movies By Decade', fontsize='15')\n",
    "plt.xlabel('Year', fontsize='15')\n",
    "plt.ylabel('Number of Movies', fontsize='15')\n",
    "sns.barplot(x=\"Theme\", y=\"Frequency\", hue=\"Decade\", data=df, saturation=1)"
   ]
  },
  {
   "cell_type": "markdown",
   "metadata": {
    "collapsed": true
   },
   "source": [
    "##### Challenge 5\n",
    "Let's use the length of the METAL CRED section as a proxy score for\n",
    "how metal a movie is. Let's call this the METAL SCORE. To each mongo\n",
    "document, add the metal_score as a new field."
   ]
  },
  {
   "cell_type": "code",
   "execution_count": 395,
   "metadata": {
    "collapsed": false
   },
   "outputs": [],
   "source": [
    "for i in metal.find():\n",
    "    metal.update({\"_id\": i[\"_id\"]},{'$set': {'metal_score': len(i['metal_cred'])}})\n"
   ]
  },
  {
   "cell_type": "code",
   "execution_count": 396,
   "metadata": {
    "collapsed": false
   },
   "outputs": [
    {
     "name": "stdout",
     "output_type": "stream",
     "text": [
      "[2, 3, 8, 5, 3, 5, 4, 4, 5, 5]\n"
     ]
    }
   ],
   "source": [
    "#test\n",
    "scores = [i['metal_score'] for i in metal.find()]\n",
    "print scores[:10]\n",
    "\n"
   ]
  },
  {
   "cell_type": "markdown",
   "metadata": {
    "collapsed": true
   },
   "source": [
    "##### Challenge 6\n",
    "Find the director that is MOST METAL per movie (director with the\n",
    "highest average metal score).\n",
    "Remember that some movies have multiple directors."
   ]
  },
  {
   "cell_type": "code",
   "execution_count": 423,
   "metadata": {
    "collapsed": false
   },
   "outputs": [
    {
     "name": "stdout",
     "output_type": "stream",
     "text": [
      "{u'_id': {u'director': u'John Milius'}, u'avg': 75.0}\n"
     ]
    }
   ],
   "source": [
    "pipeline = [\n",
    "    {\"$unwind\": \"$direct\"},\n",
    "    {\"$group\": {\"_id\": {\"director\":\"$direct\"}, \"avg\": {\"$avg\": '$metal_score'}}},\n",
    "    {\"$sort\": SON([(\"avg\", -1)])}\n",
    "    ]\n",
    "most_metal = list(metal.aggregate(pipeline))\n",
    "print most_metal[0]\n"
   ]
  },
  {
   "cell_type": "markdown",
   "metadata": {
    "collapsed": true
   },
   "source": [
    "\n",
    "##### Challenge 7\n",
    "The majority of directors and actors will have worked on a single\n",
    "movie. See if there are any directors that worked with an actor more\n",
    "than once. If so, find the director-actor duo that have worked\n",
    "together the most times."
   ]
  },
  {
   "cell_type": "code",
   "execution_count": 31,
   "metadata": {
    "collapsed": false
   },
   "outputs": [
    {
     "data": {
      "text/html": [
       "<div>\n",
       "<table border=\"1\" class=\"dataframe\">\n",
       "  <thead>\n",
       "    <tr style=\"text-align: right;\">\n",
       "      <th></th>\n",
       "      <th>_id</th>\n",
       "      <th>actor</th>\n",
       "      <th>count</th>\n",
       "      <th>director</th>\n",
       "    </tr>\n",
       "  </thead>\n",
       "  <tbody>\n",
       "    <tr>\n",
       "      <th>0</th>\n",
       "      <td>{u'director': u'Joe D’Amato', u'actor': u'Geor...</td>\n",
       "      <td>George Eastman</td>\n",
       "      <td>4</td>\n",
       "      <td>Joe D’Amato</td>\n",
       "    </tr>\n",
       "    <tr>\n",
       "      <th>1</th>\n",
       "      <td>{u'director': u'Rob Zombie', u'actor': u'Sheri...</td>\n",
       "      <td>Sheri Moon Zombie</td>\n",
       "      <td>4</td>\n",
       "      <td>Rob Zombie</td>\n",
       "    </tr>\n",
       "    <tr>\n",
       "      <th>2</th>\n",
       "      <td>{u'director': u'Dario Argento', u'actor': u'Da...</td>\n",
       "      <td>Daria Nicolodi</td>\n",
       "      <td>4</td>\n",
       "      <td>Dario Argento</td>\n",
       "    </tr>\n",
       "    <tr>\n",
       "      <th>3</th>\n",
       "      <td>{u'director': u'Peter Jackson', u'actor': u'Ch...</td>\n",
       "      <td>Christopher Lee</td>\n",
       "      <td>4</td>\n",
       "      <td>Peter Jackson</td>\n",
       "    </tr>\n",
       "    <tr>\n",
       "      <th>4</th>\n",
       "      <td>{u'director': u'Bruce Sinofsky', u'actor': u'J...</td>\n",
       "      <td>Jessie Misskelley</td>\n",
       "      <td>3</td>\n",
       "      <td>Bruce Sinofsky</td>\n",
       "    </tr>\n",
       "  </tbody>\n",
       "</table>\n",
       "</div>"
      ],
      "text/plain": [
       "                                                 _id              actor  \\\n",
       "0  {u'director': u'Joe D’Amato', u'actor': u'Geor...     George Eastman   \n",
       "1  {u'director': u'Rob Zombie', u'actor': u'Sheri...  Sheri Moon Zombie   \n",
       "2  {u'director': u'Dario Argento', u'actor': u'Da...     Daria Nicolodi   \n",
       "3  {u'director': u'Peter Jackson', u'actor': u'Ch...    Christopher Lee   \n",
       "4  {u'director': u'Bruce Sinofsky', u'actor': u'J...  Jessie Misskelley   \n",
       "\n",
       "   count        director  \n",
       "0      4     Joe D’Amato  \n",
       "1      4      Rob Zombie  \n",
       "2      4   Dario Argento  \n",
       "3      4   Peter Jackson  \n",
       "4      3  Bruce Sinofsky  "
      ]
     },
     "execution_count": 31,
     "metadata": {},
     "output_type": "execute_result"
    }
   ],
   "source": [
    "import pandas as pd\n",
    "pipeline = [\n",
    "    {\"$unwind\": \"$direct\"},\n",
    "    {\"$unwind\": \"$cast\"},\n",
    "    {\"$group\": {\"_id\": {\"director\":\"$direct\", 'actor': '$cast'}}, 'count': {'$sum': 1}},\n",
    "    {'$project': {'director' : '$_id.director', 'actor' : '$_id.actor', 'count': 1, '_id': 0}},\n",
    "    {\"$sort\": {\"count\", -1}},\n",
    "    {'$limit': 5}\n",
    "    ]\n",
    "\n",
    "pipeline = [\n",
    "    {'$unwind': \"$direct\"},\n",
    "    {'$unwind': \"$cast\"},\n",
    "    {'$group': {'_id': {'director': '$direct', 'actor': '$cast'}, 'count' : { '$sum': 1} } },\n",
    "    {'$project' : {'director' : '$_id.director','actor' : '$_id.actor', 'count':1 , '_id':1} },\n",
    "    {'$sort' : {'count': -1 }},\n",
    "    {'$limit' : 5}\n",
    "] \n",
    "\n",
    "bffs = list(metal.aggregate(pipeline))\n",
    "pd.DataFrame(bffs)\n",
    "\n"
   ]
  },
  {
   "cell_type": "markdown",
   "metadata": {
    "collapsed": true
   },
   "source": [
    "\n",
    "##### Challenge 8\n",
    "Create an index on the 'director' field to make the queries involving\n",
    "it faster.\n",
    "[What is an index?](http://en.wikipedia.org/wiki/Database_index)\n",
    "\n",
    "[Creating an index in mongo](http://docs.mongodb.org/manual/tutorial/create-an-index/)\n",
    "[Creating an index in pymongo](http://api.mongodb.org/python/current/api/pymongo/collection.html?highlight=create_index#pymongo.collection.Collection.create_index)\n",
    "[Single field index on mongo](http://docs.mongodb.org/manual/core/index-single/)\n",
    "[Mongo documentation on indexes](http://docs.mongodb.org/manual/core/indexes/)\n"
   ]
  },
  {
   "cell_type": "code",
   "execution_count": 32,
   "metadata": {
    "collapsed": false
   },
   "outputs": [
    {
     "data": {
      "text/plain": [
       "u'direct_1'"
      ]
     },
     "execution_count": 32,
     "metadata": {},
     "output_type": "execute_result"
    }
   ],
   "source": [
    "metal.create_index(\"direct\")"
   ]
  },
  {
   "cell_type": "code",
   "execution_count": 33,
   "metadata": {
    "collapsed": false
   },
   "outputs": [
    {
     "name": "stdout",
     "output_type": "stream",
     "text": [
      "SON([(u'v', 1), (u'key', SON([(u'_id', 1)])), (u'name', u'_id_'), (u'ns', u'heavy_metal_reviews.h_m')])\n",
      "SON([(u'v', 1), (u'key', SON([(u'direct', 1)])), (u'name', u'direct_1'), (u'ns', u'heavy_metal_reviews.h_m')])\n"
     ]
    }
   ],
   "source": [
    "for i in metal.list_indexes():\n",
    "    print i"
   ]
  },
  {
   "cell_type": "markdown",
   "metadata": {
    "collapsed": true
   },
   "source": [
    "##### Challenge 9 (Optional challenge for early finishers)\n",
    "For each decade, make a histogram of metal scores.\n",
    "Also, calculate the average metal score for each decade. Which decade\n",
    "was the most pure metal decade?\n"
   ]
  },
  {
   "cell_type": "code",
   "execution_count": null,
   "metadata": {
    "collapsed": true
   },
   "outputs": [],
   "source": [
    "\n",
    "\n"
   ]
  },
  {
   "cell_type": "code",
   "execution_count": null,
   "metadata": {
    "collapsed": true
   },
   "outputs": [],
   "source": []
  }
 ],
 "metadata": {
  "kernelspec": {
   "display_name": "Python 2",
   "language": "python",
   "name": "python2"
  },
  "language_info": {
   "codemirror_mode": {
    "name": "ipython",
    "version": 2
   },
   "file_extension": ".py",
   "mimetype": "text/x-python",
   "name": "python",
   "nbconvert_exporter": "python",
   "pygments_lexer": "ipython2",
   "version": "2.7.10"
  }
 },
 "nbformat": 4,
 "nbformat_minor": 0
}
